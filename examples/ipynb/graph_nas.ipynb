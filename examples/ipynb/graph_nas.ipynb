{
 "cells": [
  {
   "cell_type": "markdown",
   "metadata": {},
   "source": [
    "# Graph NAS\n",
    "In this file we will give you a simple example to show how to use AutoGL to do graph neural architecture search.\n",
    "\n",
    "## Import libraries\n",
    "First, you should import some libraries and you can set the random seed before you train the model."
   ]
  },
  {
   "cell_type": "code",
   "execution_count": null,
   "metadata": {},
   "outputs": [],
   "source": [
    "from autogl.datasets import build_dataset_from_name\n",
    "from autogl.solver import AutoNodeClassifier\n",
    "from autogl.solver.utils import set_seed\n",
    "import argparse\n",
    "from autogl.backend import DependentBackend\n",
    "set_seed(202106)"
   ]
  },
  {
   "cell_type": "markdown",
   "metadata": {},
   "source": [
    "## Config & Dataset\n",
    "Then, you can load dataset and graph nas methods from configs"
   ]
  },
  {
   "cell_type": "code",
   "execution_count": null,
   "metadata": {},
   "outputs": [],
   "source": [
    "def parse(args=None):\n",
    "    parser = argparse.ArgumentParser()\n",
    "    parser.add_argument('--config', type=str, default='../../configs/nodeclf_nas_macro_benchmark2.yml')\n",
    "    parser.add_argument('--dataset', choices=['cora', 'citeseer', 'pubmed'], default='cora', type=str)\n",
    "    args = parser.parse_args(args)\n",
    "    return args\n",
    "\n",
    "args = parse('')\n",
    "dataset = build_dataset_from_name(args.dataset)\n",
    "solver = AutoNodeClassifier.from_config(args.config)"
   ]
  },
  {
   "cell_type": "markdown",
   "metadata": {},
   "source": [
    "## Run "
   ]
  },
  {
   "cell_type": "code",
   "execution_count": null,
   "metadata": {},
   "outputs": [],
   "source": [
    "solver.fit(dataset)\n",
    "solver.get_leaderboard().show()\n",
    "acc = solver.evaluate(metric=\"acc\")\n",
    "print('acc on dataset', acc)"
   ]
  }
 ],
 "metadata": {
  "kernelspec": {
   "display_name": "Python 3.6.13 ('agt')",
   "language": "python",
   "name": "python3"
  },
  "language_info": {
   "codemirror_mode": {
    "name": "ipython",
    "version": 3
   },
   "file_extension": ".py",
   "mimetype": "text/x-python",
   "name": "python",
   "nbconvert_exporter": "python",
   "pygments_lexer": "ipython3",
   "version": "3.6.13"
  },
  "orig_nbformat": 4,
  "vscode": {
   "interpreter": {
    "hash": "bba22225c67a08ded0a9a5bb82ed9123291c5bd079484968d544cc039c49885c"
   }
  }
 },
 "nbformat": 4,
 "nbformat_minor": 2
}
