{
 "cells": [
  {
   "cell_type": "markdown",
   "metadata": {},
   "source": [
    "# Link Prediction\n",
    "In this file we will give you a simple example to show how to use AutoGL to do link prediction.\n",
    "\n",
    "## Import libraries\n",
    "First, you should import some libraries and you can set the random seed before you train the model."
   ]
  },
  {
   "cell_type": "code",
   "execution_count": null,
   "metadata": {},
   "outputs": [],
   "source": [
    "from autogl.datasets import build_dataset_from_name\n",
    "from autogl.solver import AutoLinkPredictor\n",
    "from autogl.solver.utils import set_seed\n",
    "import argparse\n",
    "from autogl.backend import DependentBackend\n",
    "from autogl.datasets.utils import split_edges\n",
    "from autogl.module.train.evaluation import Auc\n",
    "import yaml\n",
    "import random\n",
    "import torch\n",
    "import numpy as np\n",
    "from argparse import ArgumentParser, ArgumentDefaultsHelpFormatter\n",
    "set_seed(202106)"
   ]
  },
  {
   "cell_type": "markdown",
   "metadata": {},
   "source": [
    "## Config & Dataset\n",
    "Then, you can load dataset and graph nas methods from configs"
   ]
  },
  {
   "cell_type": "code",
   "execution_count": null,
   "metadata": {},
   "outputs": [],
   "source": [
    "def parse(args=None):\n",
    "    parser = ArgumentParser(\"auto link prediction\", formatter_class=ArgumentDefaultsHelpFormatter)\n",
    "    parser.add_argument('--config', type=str, default=\"../../configs/lp_gcn_benchmark.yml\")\n",
    "    parser.add_argument('--dataset', choices=['cora', 'citeseer', 'pubmed'], default='cora', type=str)\n",
    "    parser.add_argument(\"--hpo\", type=str, default=\"tpe\", help=\"hpo methods\")\n",
    "    parser.add_argument(\"--max_eval\", type=int, default=50, help=\"max hpo evaluation times\")\n",
    "    parser.add_argument(\"--seed\", type=int, default=0, help=\"random seed\")\n",
    "    parser.add_argument(\"--device\", default=0, type=int, help=\"GPU device\")\n",
    "    args = parser.parse_args(args)\n",
    "    return args\n",
    "\n",
    "args = parse('')\n",
    "\n",
    "dataset = build_dataset_from_name(args.dataset)\n",
    "dataset = split_edges(dataset, 0.8, 0.05) # split the edges for dataset\n",
    "if DependentBackend.is_dgl(): # add self-loop\n",
    "    import dgl\n",
    "    # add self loop to 0\n",
    "    data = list(dataset[0])\n",
    "    data[0] = dgl.add_self_loop(data[0])\n",
    "    dataset = [data]\n",
    "configs = yaml.load(open(args.config, \"r\").read(), Loader=yaml.FullLoader)\n",
    "configs[\"hpo\"][\"name\"] = args.hpo\n",
    "configs[\"hpo\"][\"max_evals\"] = args.max_eval\n",
    "solver = AutoLinkPredictor.from_config(configs)"
   ]
  },
  {
   "cell_type": "markdown",
   "metadata": {},
   "source": [
    "## Run "
   ]
  },
  {
   "cell_type": "code",
   "execution_count": null,
   "metadata": {},
   "outputs": [],
   "source": [
    "solver.fit(dataset, time_limit=3600, evaluation_method=[Auc], seed=args.seed)\n",
    "solver.get_leaderboard().show()\n",
    "auc = solver.evaluate(metric=\"auc\")\n",
    "print(\"test auc: {:.4f}\".format(auc))"
   ]
  }
 ],
 "metadata": {
  "kernelspec": {
   "display_name": "Python 3.6.9 ('py3_hetgnn')",
   "language": "python",
   "name": "python3"
  },
  "language_info": {
   "codemirror_mode": {
    "name": "ipython",
    "version": 3
   },
   "file_extension": ".py",
   "mimetype": "text/x-python",
   "name": "python",
   "nbconvert_exporter": "python",
   "pygments_lexer": "ipython3",
   "version": "3.6.9"
  },
  "orig_nbformat": 4,
  "vscode": {
   "interpreter": {
    "hash": "c71a81e10bf2a5359758b67f38009e83c4204a5be77a74a1c3689ce1bb3351ac"
   }
  }
 },
 "nbformat": 4,
 "nbformat_minor": 2
}
